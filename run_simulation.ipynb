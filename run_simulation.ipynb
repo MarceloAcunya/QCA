{
 "cells": [
  {
   "cell_type": "code",
   "execution_count": null,
   "id": "qca-run",
   "metadata": {},
   "outputs": [],
   "source": [
    "from qca_simulator import QCASimulator
",
    "import matplotlib.pyplot as plt
",
    "
",
    "sim = QCASimulator()
",
    "plt.plot(sim.A_k)
",
    "plt.title('Affinity over time for each branch')
",
    "plt.xlabel('Timestep')
",
    "plt.ylabel('Affinity')
",
    "plt.show()"
   ]
  }
 ],
 "metadata": {},
 "nbformat": 4,
 "nbformat_minor": 5
}
